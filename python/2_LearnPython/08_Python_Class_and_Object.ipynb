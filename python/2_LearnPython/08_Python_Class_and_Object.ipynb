{
 "cells": [
  {
   "cell_type": "markdown",
   "metadata": {},
   "source": [
    "# 08 Python Objects and Classes\n",
    "\n",
    "A class is a user-defined blueprint or prototype from which objects are created.\n",
    "\n",
    "![Class and Object](https://raw.githubusercontent.com/jwang1122/python/master/python/2_LearnPython/Class-cookieCutter.jpg)\n",
    "\n",
    "Another example: [Class Object Diagram](https://upload.wikimedia.org/wikipedia/commons/thumb/7/75/CPT-Class-Object-Modification.svg/1200px-CPT-Class-Object-Modification.svg.png)"
   ]
  },
  {
   "cell_type": "markdown",
   "metadata": {},
   "source": [
    "## 8.1 Create a Class and Object\n",
    "\n",
    "See the example below of defining a class and then creating an object with the class."
   ]
  },
  {
   "cell_type": "code",
   "execution_count": null,
   "metadata": {},
   "outputs": [],
   "source": [
    "# Define a Class\n",
    "class MyClass:\n",
    "    x = 5\n",
    "\n",
    "# Create an Object with the Class\n",
    "p1 = MyClass()\n",
    "\n",
    "# Use the Object\n",
    "print(p1.x)"
   ]
  },
  {
   "cell_type": "markdown",
   "metadata": {},
   "source": [
    "## 8.2 Create Object with Init\n",
    "\n",
    "A Python class can have a constructor function for initializing the class.\n",
    "\n",
    "### 8.2.1 Create Object with Initialized Value\n",
    "\n",
    "A simple class with an init function. Notice in the class, the function needs to pass 'self' as its first parameter."
   ]
  },
  {
   "cell_type": "code",
   "execution_count": null,
   "metadata": {},
   "outputs": [],
   "source": [
    "class MyClass:\n",
    "    def __init__(self):\n",
    "        self.name = \"unknown\"\n",
    "\n",
    "p1 = MyClass()\n",
    "\n",
    "print(p1.name)"
   ]
  },
  {
   "cell_type": "markdown",
   "metadata": {},
   "source": [
    "**Note**: The `__init__()` function is called automatically every time the class is used to create a new object.\n",
    "\n",
    "### 8.2.2 The self Parameter\n",
    "\n",
    "It is just the name of the first parameter, and in the object of the class, the first parameter of the method is always the object itself. You could name it anything."
   ]
  },
  {
   "cell_type": "code",
   "execution_count": null,
   "metadata": {},
   "outputs": [],
   "source": [
    "# Example with 'me' instead of 'self'\n",
    "class MyClass:\n",
    "    def __init__(me):\n",
    "        me.name = \"test\"\n",
    "\n",
    "p1 = MyClass()\n",
    "print(p1.name)"
   ]
  },
  {
   "cell_type": "code",
   "execution_count": null,
   "metadata": {},
   "outputs": [],
   "source": [
    "# Example with 'this' instead of 'self'\n",
    "class MyClass:\n",
    "    def __init__(this):\n",
    "        this.name = \"test\"\n",
    "\n",
    "p1 = MyClass()\n",
    "print(p1.name)"
   ]
  },
  {
   "cell_type": "markdown",
   "metadata": {},
   "source": [
    "**Note**: In many other languages, you don't need to pass self; they use the keyword 'this' to refer to the object itself.\n",
    "\n",
    "### 8.2.3 Initialize Object with Passed Values"
   ]
  },
  {
   "cell_type": "code",
   "execution_count": null,
   "metadata": {},
   "outputs": [],
   "source": [
    "class MyClass:\n",
    "    def __init__(self, name, value):\n",
    "        self.name = name\n",
    "        self.value = value\n",
    "\n",
    "p1 = MyClass(\"x\", 100)\n",
    "p2 = MyClass(\"y\", 20)\n",
    "\n",
    "print(p1.name + \" = \" + str(p1.value))\n",
    "print(p2.name + \" = \" + str(p2.value))"
   ]
  },
  {
   "cell_type": "markdown",
   "metadata": {},
   "source": [
    "### 8.2.4 Initialize Object with Variable Length Arguments"
   ]
  },
  {
   "cell_type": "code",
   "execution_count": null,
   "metadata": {},
   "outputs": [],
   "source": [
    "class MyClass:\n",
    "    x = 0\n",
    "    y = 0\n",
    "    def __init__(self, *args):\n",
    "        if len(args) > 0:\n",
    "            self.x = args[0]\n",
    "        if len(args) > 1:\n",
    "            self.y = args[1]\n",
    "    def sum(self):\n",
    "        return self.x + self.y\n",
    "\n",
    "# Create objects with different numbers of arguments\n",
    "p1 = MyClass()\n",
    "print(p1.sum())\n",
    "p1 = MyClass(2)\n",
    "print(p1.sum())\n",
    "p1 = MyClass(2, 3)\n",
    "print(p1.sum())"
   ]
  },
  {
   "cell_type": "markdown",
   "metadata": {},
   "source": [
    "## 8.3 Methods in Class\n",
    "\n",
    "Objects can also contain methods. Methods in objects are functions that belong to the object."
   ]
  },
  {
   "cell_type": "code",
   "execution_count": null,
   "metadata": {},
   "outputs": [],
   "source": [
    "class Person:\n",
    "    def __init__(self, name, age):\n",
    "        self.name = name\n",
    "        self.age = age\n",
    "\n",
    "    def myfunc(self):\n",
    "        print(\"Hello, my name is \" + self.name)\n",
    "\n",
    "p1 = Person(\"John\", 36)\n",
    "p1.myfunc()"
   ]
  },
  {
   "cell_type": "markdown",
   "metadata": {},
   "source": [
    "## 8.4 Object Properties\n",
    "\n",
    "The properties of an object are changeable after assignment."
   ]
  },
  {
   "cell_type": "code",
   "execution_count": null,
   "metadata": {},
   "outputs": [],
   "source": [
    "class Person:\n",
    "    def __init__(self, name, age):\n",
    "        self.name = name\n",
    "        self.age = age\n",
    "\n",
    "    def myfunc(self):\n",
    "        print(\"Hello, my name is \" + self.name)\n",
    "\n",
    "p1 = Person(\"John\", 36)\n",
    "p1.myfunc()\n",
    "\n",
    "# Modify object properties\n",
    "p1.name = \"Smith\"\n",
    "p1.age = 24\n",
    "p1.myfunc()\n",
    "print(\"age = \" + str(p1.age))\n",
    "\n",
    "# Python's dynamic typing allows changing property types\n",
    "p1.age = \"twenty-one\"\n",
    "print(\"age = \" + p1.age)"
   ]
  },
  {
   "cell_type": "markdown",
   "metadata": {},
   "source": [
    "## 8.5 Import Python Class from Another File\n",
    "\n",
    "In a real project, you would typically organize your classes in separate files. Here's how you would import them:\n",
    "\n",
    "```python\n",
    "# If your class is in person.py:\n",
    "from person import Person\n",
    "\n",
    "# If your class is in a subfolder:\n",
    "from myclass.person import Person\n",
    "```\n",
    "\n",
    "**Note**: Your class name and directory name should avoid Python keywords. You can find a list of Python keywords [here](https://www.w3schools.com/python/python_ref_keywords.asp).\n",
    "\n",
    "## 8.6 Practice and Homework\n",
    "\n",
    "1. Please read and complete the exercises at [W3Schools Python Classes](https://www.w3schools.com/python/python_classes.asp)\n",
    "\n",
    "2. Review your previous code and try to rewrite some of them into one or more classes. Try to save each class as one file, then use a main Python file to import them and run the functions in those classes."
   ]
  }
 ],
 "metadata": {
  "kernelspec": {
   "display_name": "Python 3",
   "language": "python",
   "name": "python3"
  },
  "language_info": {
   "codemirror_mode": {
    "name": "ipython",
    "version": 3
   },
   "file_extension": ".py",
   "mimetype": "text/x-python",
   "name": "python",
   "nbconvert_exporter": "python",
   "pygments_lexer": "ipython3",
   "version": "3.8.0"
  }
 },
 "nbformat": 4,
 "nbformat_minor": 4
}