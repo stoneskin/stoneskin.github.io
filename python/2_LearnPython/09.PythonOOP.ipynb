{
 "cells": [
  {
   "cell_type": "markdown",
   "id": "e7b7a276",
   "metadata": {},
   "source": [
    "# 09 Python OOP\n",
    "\n",
    "Object-Oriented Programming (OOP) is a method of structuring a program by bundling related properties and behaviors into individual objects."
   ]
  },
  {
   "cell_type": "markdown",
   "id": "7ce415b6",
   "metadata": {},
   "source": [
    "## 9.1 4 Principles of OOP\n",
    "\n",
    "There are 4 major principles that make a language Object-Oriented. These are Encapsulation, Data Abstraction, Polymorphism, and Inheritance. These are also called the four pillars of Object-Oriented Programming."
   ]
  },
  {
   "cell_type": "markdown",
   "id": "66d6dcb0",
   "metadata": {},
   "source": [
    "### 9.1.1 Encapsulation\n",
    "\n",
    "Encapsulation is achieved when each object keeps its state private, inside a class. Other objects don’t have direct access to this state. Instead, they can only call a list of public functions — called methods."
   ]
  },
  {
   "cell_type": "code",
   "execution_count": null,
   "id": "618fc1a3",
   "metadata": {},
   "outputs": [],
   "source": [
    "class Person:\n",
    "    def __init__(self, name, age):\n",
    "        self.__name = name\n",
    "        self.__age = age\n",
    "\n",
    "    def get_name(self):\n",
    "        return self.__name\n",
    "\n",
    "    def get_age(self):\n",
    "        return self.__age\n",
    "\n",
    "    def set_age(self, age):\n",
    "        if age > 0:\n",
    "            self.__age = age\n",
    "\n",
    "p = Person(\"John\", 30)\n",
    "print(p.get_name())  # John\n",
    "print(p.get_age())   # 30\n",
    "p.set_age(31)\n",
    "print(p.get_age())   # 31"
   ]
  },
  {
   "cell_type": "markdown",
   "id": "b6e10135",
   "metadata": {},
   "source": [
    "### 9.1.2 Abstraction\n",
    "\n",
    "- **Data Abstraction** is a way of creating a simple model of more complex real-world entities, which contains only the important properties from the perspective of the context of an application.\n",
    "\n",
    "- **OOP Abstraction** uses abstract classes or interfaces to express the intent of the class rather than the actual implementation."
   ]
  },
  {
   "cell_type": "code",
   "execution_count": null,
   "id": "8a8ba0eb",
   "metadata": {},
   "outputs": [],
   "source": [
    "from abc import ABC, abstractmethod\n",
    "\n",
    "class Animal(ABC):\n",
    "    @abstractmethod\n",
    "    def sound(self):\n",
    "        pass\n",
    "\n",
    "class Dog(Animal):\n",
    "    def sound(self):\n",
    "        return \"Bark\"\n",
    "\n",
    "class Cat(Animal):\n",
    "    def sound(self):\n",
    "        return \"Meow\"\n",
    "\n",
    "d = Dog()\n",
    "c = Cat()\n",
    "print(d.sound())  # Bark\n",
    "print(c.sound())  # Meow"
   ]
  },
  {
   "cell_type": "markdown",
   "id": "4231f63c",
   "metadata": {},
   "source": [
    "### 9.1.3 Inheritance\n",
    "\n",
    "In OOP, the child class could reuse all method of parents class.(Except the private members in some advance language).\n",
    "\n",
    "All child `is a` type of parents.\n",
    "for example, car is type of vehicle, bird is type of animal, chicken is type of bird, etc."
   ]
  },
  {
   "cell_type": "code",
   "execution_count": null,
   "id": "3fdca9b5",
   "metadata": {},
   "outputs": [],
   "source": [
    "class Vehicle:\n",
    "    def __init__(self, brand, model):\n",
    "        self.brand = brand\n",
    "        self.model = model\n",
    "\n",
    "    def drive(self):\n",
    "        print(\"Driving\")\n",
    "\n",
    "class Car(Vehicle):\n",
    "    def __init__(self, brand, model, doors):\n",
    "        super().__init__(brand, model)\n",
    "        self.doors = doors\n",
    "\n",
    "    def honk(self):\n",
    "        print(\"Honking\")\n",
    "\n",
    "c = Car(\"Toyota\", \"Corolla\", 4)\n",
    "c.drive()  # Driving\n",
    "c.honk()   # Honking"
   ]
  },
  {
   "cell_type": "markdown",
   "id": "0e8ae877",
   "metadata": {},
   "source": [
    "### 9.1.4 Polymorphism\n",
    "\n",
    "Polymorphism means each child class can have different behaviors through inheriting the same method from the parent class."
   ]
  },
  {
   "cell_type": "code",
   "execution_count": null,
   "id": "2ab6f8c2",
   "metadata": {},
   "outputs": [],
   "source": [
    "class Animal(object):\n",
    "    def __init__(self, name):\n",
    "        self.name = name\n",
    "\n",
    "    def talk(self):\n",
    "        raise NotImplementedError\n",
    "\n",
    "class Dog(Animal):\n",
    "    def talk(self):\n",
    "        return \"Bow...Bow...\"\n",
    "\n",
    "class Cat(Animal):\n",
    "    def talk(self):\n",
    "        return \"Meow...Meow...\"\n",
    "\n",
    "class Human(Animal):\n",
    "    def talk(self):\n",
    "        return \"I can talk more....\"\n",
    "\n",
    "def animal_sound(animal):\n",
    "    print(animal.talk())\n",
    "\n",
    "d = Dog(\"Dog\")\n",
    "c = Cat(\"Cat\")\n",
    "h = Human(\"Human\")\n",
    "\n",
    "animal_sound(d)  # Bow...Bow...\n",
    "animal_sound(c)  # Meow...Meow...\n",
    "animal_sound(h)  # I can talk more...."
   ]
  },
  {
   "cell_type": "markdown",
   "id": "780984b9",
   "metadata": {},
   "source": [
    "## 9.2 Example of OOP in Python\n",
    "\n",
    "### 9.2.1 Animal Example 1\n",
    "\n",
    "The example below shows the Animal, Dog, and Turtle classes in OOP."
   ]
  },
  {
   "cell_type": "code",
   "execution_count": null,
   "id": "891dad68",
   "metadata": {},
   "outputs": [],
   "source": [
    "class Animal:\n",
    "\n",
    "    def __init__(self, name):\n",
    "        self.name = name \n",
    "        print(self.name + \" was adopted.\")\n",
    "\n",
    "    def run(self):\n",
    "        print(\"running!\")\n",
    "\n",
    "class Dog(Animal):\n",
    "\n",
    "    def __init__(self, name):\n",
    "        self.name = name \n",
    "        print(self.name + \" was adopted.\")\n",
    "\n",
    "    def bark(self):\n",
    "        print(\"woof!\")\n",
    "\n",
    "class Turtle(Animal):\n",
    "\n",
    "    def __init__(self, name):\n",
    "        super().__init__(name)\n",
    "\n",
    "    def run(self):\n",
    "        print(\"running slowly!\")\n",
    "\n",
    "# We don't care how it works, just bark\n",
    "spot = Dog(\"spot\") #=> spot was adopted. \n",
    "spot.bark() #=> woof! \n",
    "\n",
    "# Dog inherits the run method from Animal\n",
    "spot.run() #=> running! \n",
    "\n",
    "# We get back an interesting response \n",
    "tim = Turtle(\"tim\") #=> tim was adopted. \n",
    "tim.run() #=> running slowly!"
   ]
  },
  {
   "cell_type": "markdown",
   "id": "2eeeca13",
   "metadata": {},
   "source": [
    "### 9.2.2 Animal Example 2\n",
    "\n",
    "Below is a more complex example of Inheritance and Polymorphism."
   ]
  },
  {
   "cell_type": "code",
   "execution_count": null,
   "id": "bfc26535",
   "metadata": {},
   "outputs": [],
   "source": [
    "class Animal:\n",
    "    def __init__(self, name, gender):\n",
    "        self.name = name\n",
    "        self.gender = gender\n",
    "    def __str__(self) -> str:\n",
    "        return \"class={}: name:{} gender:{}\".format(type(self).__name__, self.name, self.gender)\n",
    "\n",
    "class Bird(Animal):\n",
    "    def __init__(self, name, gender):\n",
    "        Animal.__init__(self, name, gender)\n",
    "    def flying(self):\n",
    "        return \"birds flying...\"  \n",
    "\n",
    "class Chicken(Bird):\n",
    "    def __init__(self, name, gender):\n",
    "        super().__init__(name, gender) # In Python 3 and above, you can use super() to initialize the parent without self\n",
    "        self.gender = gender\n",
    "    def flying(self):\n",
    "        return \"chicken {} can't fly..\".format(self.name)\n",
    "\n",
    "class CanadianGoose(Bird):\n",
    "    def __init__(self, name, gender):\n",
    "        Bird.__init__(self, name, gender)\n",
    "    def swimming(self):\n",
    "        return \"Canadian Goose floating on the water..\"\n",
    "\n",
    "aHen = Chicken(\"egg hatcher\", \"F\")\n",
    "aRooster = Chicken(\"big Foot\", \"M\")\n",
    "aGoose = CanadianGoose(\"wild goose\", \"unknown\") \n",
    "\n",
    "print(aHen.flying())\n",
    "print(aGoose.flying())\n",
    "print(aGoose.swimming())\n",
    "print(aRooster)"
   ]
  },
  {
   "cell_type": "markdown",
   "id": "653e2af2",
   "metadata": {},
   "source": [
    "## 9.3 Homework\n",
    "\n",
    "Please practice OOP by writing classes `Vehicle`, `Car`, and `Truck`."
   ]
  },
  {
   "cell_type": "markdown",
   "id": "cb71a1a7",
   "metadata": {},
   "source": [
    "### Exercise\n",
    "\n",
    "1. Create a class `Shape` with a method `area`.\n",
    "2. Create two subclasses `Square` and `Circle` that implement the `area` method.\n",
    "3. Write a function that takes a list of shapes and prints the area of each shape."
   ]
  },
  {
   "cell_type": "markdown",
   "id": "83177606",
   "metadata": {},
   "source": [
    "### Quiz\n",
    "\n",
    "1. What is Encapsulation?\n",
    "2. How does Inheritance work in OOP?\n",
    "3. Explain Polymorphism with an example.\n",
    "4. What is the difference between Abstraction and Encapsulation?"
   ]
  },
  {
   "cell_type": "markdown",
   "id": "0180e0b7",
   "metadata": {},
   "source": [
    "## 9.4 References\n",
    "\n",
    "Read more if you need to understand more about OOP in Python:\n",
    "\n",
    "- <https://www.w3schools.com/python/python_inheritance.asp>\n",
    "- <https://realpython.com/python3-object-oriented-programming/>\n",
    "- <https://learnbatta.com/course/python/python-object-oriented-programming/>\n",
    "- <https://medium.com/@cancerian0684/what-are-four-basic-principles-of-object-oriented-programming-645af8b43727>\n",
    "- <https://dev.to/terrythreatt/the-four-principles-of-object-oriented-programming-in-python-1jbi>"
   ]
  },
  {
   "cell_type": "markdown",
   "id": "6fd006cd",
   "metadata": {},
   "source": [
    "## 9.5 Interactive Learning\n",
    "\n",
    "Use platforms like [Repl.it](https://repl.it/~) or [Jupyter Notebooks](https://jupyter.org/) to write and test your code interactively."
   ]
  },
  {
   "cell_type": "markdown",
   "id": "725866d8",
   "metadata": {},
   "source": [
    "## 9.6 Real-World Applications\n",
    "\n",
    "Explore how OOP principles are used in real-world applications like game development, GUI applications, and web development."
   ]
  }
 ],
 "metadata": {
  "kernelspec": {
   "display_name": "Python 3",
   "language": "python",
   "name": "python3"
  },
  "language_info": {
   "codemirror_mode": {
    "name": "ipython",
    "version": 3
   },
   "file_extension": ".py",
   "mimetype": "text/x-python",
   "name": "python",
   "nbconvert_exporter": "python",
   "pygments_lexer": "ipython3",
   "version": "3.8.5"
  }
 },
 "nbformat": 4,
 "nbformat_minor": 5
}
